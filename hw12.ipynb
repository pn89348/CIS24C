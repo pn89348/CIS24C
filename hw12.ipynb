{
  "nbformat": 4,
  "nbformat_minor": 0,
  "metadata": {
    "colab": {
      "name": "Copy of hw12.ipynb",
      "version": "0.3.2",
      "views": {},
      "default_view": {},
      "provenance": [
        {
          "file_id": "https://github.com/cis024c/summer2018hw/blob/master/hw12.ipynb",
          "timestamp": 1531948053540
        }
      ],
      "collapsed_sections": []
    },
    "kernelspec": {
      "display_name": "Python 2",
      "language": "python",
      "name": "python2"
    }
  },
  "cells": [
    {
      "metadata": {
        "id": "xEiotHIuN7is",
        "colab_type": "text"
      },
      "cell_type": "markdown",
      "source": [
        "\n",
        "# CIS024C - Spring 2018 - Friday 5:30-9:25pm \n",
        "\n",
        "## Homework 12\n",
        "\n",
        "Homework 12 covers plotting with matplotlib/pyplot\n",
        "\n",
        "The below sites have some interesting and useful information on working with plots\n",
        "\n",
        "* D3 Gallery - https://github.com/d3/d3/wiki/Gallery\n",
        "* Minard's Visualizaion of Napolean's 1812 March - https://robots.thoughtbot.com/analyzing-minards-visualization-of-napoleons-1812-march\n",
        "* Matplotlib Overview - https://matplotlib.org/users/intro.html\n",
        "\n",
        "\n",
        "You will need to download this notebook and use this as a starting point for your homework. You will just need to fill in the content of each code-block (cell) and execute. Once you have completed all the exercises, you will need to save and upload this to your github repository under a folder called hw10.\n",
        "\n",
        "Note also the exercises build on top of one another so you might be able to do the next exercise if you have not completed the previous exercise.\n",
        "\n",
        "Post any questions you have on our Slack at **cis-024c1.slack.com**\n",
        "\n",
        "** Slides ** for Week 11 can be found at \n",
        "\n",
        "https://docs.google.com/presentation/d/1Lz6li1lw7D5_abcG6W68E2rHrtCMgI-cJSA9VokKSi4/edit?usp=sharing\n",
        "\n",
        "**Please refer back to hw1 and slack for instructions on how to setup your computer for developing using Python.**"
      ]
    },
    {
      "metadata": {
        "id": "B-Kh34YiN7iu",
        "colab_type": "text"
      },
      "cell_type": "markdown",
      "source": [
        "### Helpful Jupyter Commands\n",
        "\n",
        "Below are some useful commands to know when using Jupyter\n",
        "\n",
        "1. You can add a new cell by clicking on the \"+\" icon on top.\n",
        "2. You can delete a cell by selecting that cell and clicking on the \"scissors\" icon on top.\n",
        "3. You can execute a cell by either pressing shift+enter or selecting the \"play\" button on top.\n",
        "4. You can create a new file in Jupyter via the File menu->New Notebook option. Make sure to select Python 2 when creating your notebook.\n",
        "5. Also, for your code blocks make sure that Code is selected instead of another option like Markdown.\n",
        "6. Use the Enter key to go to the next line in a cell to enter the next statement.\n",
        "7. You can clear results by clicking on the Cell menu item and selecting Current Output->Clear or All Output->Clear depending on whether you are trying to just clear the output for one cell or for all cells.\n",
        "8. In case your program has crashed for some reason (infinite loop, for example), you can restart your Python session by select Kernel in the menu and selecting Restart.\n"
      ]
    },
    {
      "metadata": {
        "id": "em5xHCJ4N7iw",
        "colab_type": "text"
      },
      "cell_type": "markdown",
      "source": [
        "#### Check Python Version"
      ]
    },
    {
      "metadata": {
        "id": "hYClesinN7iw",
        "colab_type": "code",
        "colab": {
          "autoexec": {
            "startup": false,
            "wait_interval": 0
          }
        },
        "outputId": "db7f00ed-a3db-46e4-d0bf-a1e625c8c6b7"
      },
      "cell_type": "code",
      "source": [
        "!python --version"
      ],
      "execution_count": 0,
      "outputs": [
        {
          "output_type": "stream",
          "text": [
            "Python 2.7.12 :: Continuum Analytics, Inc.\r\n"
          ],
          "name": "stdout"
        }
      ]
    },
    {
      "metadata": {
        "id": "6xZ9sS5WN7i2",
        "colab_type": "text"
      },
      "cell_type": "markdown",
      "source": [
        "#### Class work\n",
        "\n",
        "The main classwork file is https://github.com/cis024c/spring2018classwork/blob/master/week11/classwork_04242018.ipynb"
      ]
    },
    {
      "metadata": {
        "id": "3SzSPVeXN7i4",
        "colab_type": "text"
      },
      "cell_type": "markdown",
      "source": [
        "**Exercise 1 - Testing your knowledge of plots**\n",
        "\n",
        "Answer the below questions\n",
        "\n",
        "1. What is the goal of data visualization?\n",
        "2. Why is it critical to ensure that every bit of ink in a visualization contributes to the intended goal?\n",
        "3. What is the difference between a histogram and a barplot?\n",
        "4. Name four types of charts"
      ]
    },
    {
      "metadata": {
        "id": "LReaRDtHN7i6",
        "colab_type": "text"
      },
      "cell_type": "markdown",
      "source": [
        "<< Double click this cell and enter your result >>\n",
        "1. The goal of data visualization is to see complex data in a visual way that may be easier to understand depending on the purpose\n",
        "2. This is critical because your chart can become misleading and much harder to understand\n",
        "3. The difference between a histogram and a bar plot is that a histogram is for finding the **frequency in bins** and getting the **distribution** while a bar chart is for **comparing the values** of **categorical data**\n",
        "4. \n",
        "\n",
        "  A. Line Chart\n",
        "\n",
        "  B. Bar Chart\n",
        "  \n",
        "  C. Histogram\n",
        "  \n",
        "  D. Pie Chart"
      ]
    },
    {
      "metadata": {
        "id": "d9ykCvSKN7i6",
        "colab_type": "text"
      },
      "cell_type": "markdown",
      "source": [
        "** Exercise 2 - Line chart **\n",
        "\n",
        "Consider the following dataset of the weights of 7 cars and their corresponding fuel consumption\n",
        "\n",
        "```\n",
        "weight = [3170,3455,3222,3983,2441,2500,2390]\n",
        "fuel_consumption (miles per gallon) = [26,30,28,23,36,33,38]\n",
        "```\n",
        "\n",
        "1. Create a line chart that plots the weight of cars against their fuel consumption.\n",
        "2. Comment on your findings. How does fuel consumption change as the weight of the car increases?\n",
        "\n",
        "Make sure to add labels and a title to your chart"
      ]
    },
    {
      "metadata": {
        "id": "j1ZyNlvqN7i7",
        "colab_type": "code",
        "colab": {
          "autoexec": {
            "startup": false,
            "wait_interval": 0
          }
        }
      },
      "cell_type": "code",
      "source": [
        "### YOUR CODE GOES BELOW\n",
        "import matplotlib.pyplot as plt"
      ],
      "execution_count": 0,
      "outputs": []
    },
    {
      "metadata": {
        "id": "RlGJ1dh65xra",
        "colab_type": "code",
        "colab": {
          "autoexec": {
            "startup": false,
            "wait_interval": 0
          }
        }
      },
      "cell_type": "code",
      "source": [
        "weight = [3170, 3455, 3222, 3983, 2441, 2500, 2390]\n",
        "mileage = [26, 30, 28, 23, 36, 33, 38] # miles per gallon\n",
        "\n",
        "new_x, new_y = zip(*sorted(zip(weight, mileage)))"
      ],
      "execution_count": 0,
      "outputs": []
    },
    {
      "metadata": {
        "id": "AkttuYw86KyZ",
        "colab_type": "code",
        "colab": {
          "autoexec": {
            "startup": false,
            "wait_interval": 0
          },
          "base_uri": "https://localhost:8080/",
          "height": 376
        },
        "outputId": "dc642d27-3dbe-4e26-a536-cc8b53c9ca17",
        "executionInfo": {
          "status": "ok",
          "timestamp": 1531978011107,
          "user_tz": 420,
          "elapsed": 358,
          "user": {
            "displayName": "Sampann Nigam",
            "photoUrl": "https://lh3.googleusercontent.com/a/default-user=s128",
            "userId": "102273316183648148768"
          }
        }
      },
      "cell_type": "code",
      "source": [
        "plt.title(\"Car mileage vs. weight\")\n",
        "plt.xlabel(\"Weight\")\n",
        "plt.ylabel(\"Mileage\")\n",
        "\n",
        "plt.plot(new_x, new_y)\n",
        "\n",
        "plt.show()"
      ],
      "execution_count": 7,
      "outputs": [
        {
          "output_type": "display_data",
          "data": {
            "image/png": "[encoded data removed]",
            "text/plain": [
              "<matplotlib.figure.Figure at 0x7f001c6b22d0>"
            ]
          },
          "metadata": {
            "tags": []
          }
        }
      ]
    },
    {
      "metadata": {
        "id": "ce0eMF4A6LgA",
        "colab_type": "text"
      },
      "cell_type": "markdown",
      "source": [
        "Though some points are off a bit, the pattern that I see is that if the weight of the car is more, the mileage is less."
      ]
    },
    {
      "metadata": {
        "id": "ZN_vsrJ45jgI",
        "colab_type": "code",
        "colab": {
          "autoexec": {
            "startup": false,
            "wait_interval": 0
          }
        }
      },
      "cell_type": "code",
      "source": [
        "### END CODE"
      ],
      "execution_count": 0,
      "outputs": []
    },
    {
      "metadata": {
        "id": "fZCizAYYN7i9",
        "colab_type": "text"
      },
      "cell_type": "markdown",
      "source": [
        "#### Exercise 3 - Scatter Plot\n",
        "\n",
        "Consider the following dataset of the weights of individuals and the number of times they used the remote contorl in a period of one hour\n",
        "\n",
        "```\n",
        "weight = [121,127,128,131,130,131,133,141,161,167,169,171,173,175,177,181]\n",
        "remote_use = [4,3,7,5,3,8,3,4,22,21,17,23,19,22,18,23]\n",
        "```\n",
        "\n",
        "1. Create a scatterplot with the weight on the y-axis and the remote_use variable on the x_axis.\n",
        "2. What can you conclude from the weight the points are distributed on the graph? Does a particular pattern standout?\n",
        "\n",
        "Make sure to add labels and a title to your chart\n"
      ]
    },
    {
      "metadata": {
        "id": "Gpy-o8qCN7i9",
        "colab_type": "code",
        "colab": {
          "autoexec": {
            "startup": false,
            "wait_interval": 0
          }
        }
      },
      "cell_type": "code",
      "source": [
        "### YOUR CODE GOES BELOW\n",
        "weight = [121, 127, 128, 131, 130, 131, 133, 141, 161, 167, 169, 171, 173, 175, 177, 181]\n",
        "remote_use = [4, 3, 7, 5, 3, 8, 3, 4, 22, 21, 17, 23, 19, 22, 18, 23]"
      ],
      "execution_count": 0,
      "outputs": []
    },
    {
      "metadata": {
        "id": "YyVMRlUdBGk8",
        "colab_type": "code",
        "colab": {
          "autoexec": {
            "startup": false,
            "wait_interval": 0
          },
          "base_uri": "https://localhost:8080/",
          "height": 376
        },
        "outputId": "96943de6-c5c4-400b-a7db-bf4d5654cf42",
        "executionInfo": {
          "status": "ok",
          "timestamp": 1531978905020,
          "user_tz": 420,
          "elapsed": 472,
          "user": {
            "displayName": "Sampann Nigam",
            "photoUrl": "https://lh3.googleusercontent.com/a/default-user=s128",
            "userId": "102273316183648148768"
          }
        }
      },
      "cell_type": "code",
      "source": [
        "plt.title(\"Remote use vs. weight\")\n",
        "plt.xlabel(\"# of times remote used\")\n",
        "plt.ylabel(\"Weights of individuals\")\n",
        "\n",
        "plt.scatter(remote_use, weight)\n",
        "\n",
        "plt.show()"
      ],
      "execution_count": 12,
      "outputs": [
        {
          "output_type": "display_data",
          "data": {
            "image/png": "[encoded data removed]",
            "text/plain": [
              "<matplotlib.figure.Figure at 0x7f001a4f2350>"
            ]
          },
          "metadata": {
            "tags": []
          }
        }
      ]
    },
    {
      "metadata": {
        "id": "uNxxlXCACCDG",
        "colab_type": "text"
      },
      "cell_type": "markdown",
      "source": [
        "Most people 120 - 140 pounds used the remote 3 - 8 times and most people 160 - 185 pounds used the remote 17 - 23 times. In summary, people who weight less used the remote less times and people who weigh more used the remote more times"
      ]
    },
    {
      "metadata": {
        "id": "pZCz-miYA1Jw",
        "colab_type": "code",
        "colab": {
          "autoexec": {
            "startup": false,
            "wait_interval": 0
          }
        }
      },
      "cell_type": "code",
      "source": [
        "### END CODE"
      ],
      "execution_count": 0,
      "outputs": []
    },
    {
      "metadata": {
        "id": "B8tM1-qGN7i_",
        "colab_type": "text"
      },
      "cell_type": "markdown",
      "source": [
        "#### Exercise 4 - Bar Charts\n",
        "\n",
        "Consider the following dataset that show the excuses for being late in class and the number of times the excuse was used.\n",
        "\n",
        "```\n",
        "excuse = ['No clean pants to wear','thought it was Saturday','forgot to set alarm','too dark, thought it was night','stuck in traffic']\n",
        "frequency_of_use = [12,8,26,5,14]\n",
        "```\n",
        "\n",
        "Create a bar chart with the excuse on the y axis and the frequency of use on the x axis. Make sure the add labels and a title to the chart."
      ]
    },
    {
      "metadata": {
        "id": "Y_BI8jRiN7jB",
        "colab_type": "code",
        "colab": {
          "autoexec": {
            "startup": false,
            "wait_interval": 0
          }
        }
      },
      "cell_type": "code",
      "source": [
        "### YOUR CODE GOES BELOW\n",
        "excuse = ['No clean pants to wear','thought it was Saturday','forgot to set alarm','too dark, thought it was night','stuck in traffic']\n",
        "frequency_of_use = [12,8,26,5,14]"
      ],
      "execution_count": 0,
      "outputs": []
    },
    {
      "metadata": {
        "id": "vcW2A6MUGfHu",
        "colab_type": "code",
        "colab": {
          "autoexec": {
            "startup": false,
            "wait_interval": 0
          },
          "base_uri": "https://localhost:8080/",
          "height": 376
        },
        "outputId": "439381c6-c097-4117-834e-0b483a302a09",
        "executionInfo": {
          "status": "ok",
          "timestamp": 1531979924132,
          "user_tz": 420,
          "elapsed": 420,
          "user": {
            "displayName": "Sampann Nigam",
            "photoUrl": "https://lh3.googleusercontent.com/a/default-user=s128",
            "userId": "102273316183648148768"
          }
        }
      },
      "cell_type": "code",
      "source": [
        "plt.title(\"What excuses people use\")\n",
        "plt.xlabel(\"Frequency of use\")\n",
        "plt.ylabel(\"Excuse\")\n",
        "\n",
        "plt.barh(excuse, frequency_of_use)\n",
        "\n",
        "plt.show()"
      ],
      "execution_count": 17,
      "outputs": [
        {
          "output_type": "display_data",
          "data": {
            "image/png": "[encoded data removed]",
            "text/plain": [
              "<matplotlib.figure.Figure at 0x7f001a3338d0>"
            ]
          },
          "metadata": {
            "tags": []
          }
        }
      ]
    },
    {
      "metadata": {
        "id": "k4f5S3GlGaK2",
        "colab_type": "code",
        "colab": {
          "autoexec": {
            "startup": false,
            "wait_interval": 0
          }
        }
      },
      "cell_type": "code",
      "source": [
        "### END CODE"
      ],
      "execution_count": 0,
      "outputs": []
    },
    {
      "metadata": {
        "id": "g-Z8-aocN7jD",
        "colab_type": "text"
      },
      "cell_type": "markdown",
      "source": [
        "#### Exercise 5 -  Creating subplots\n",
        "\n",
        "Consider the below data that shows the relationship between scores obtained and hours spent studying a week.\n",
        "\n",
        "```\n",
        "hours = [1,2,3,4,5,6,7,8,9,10]\n",
        "score = [40,45,50,55,60,65,70,80,90,100]\n",
        "```\n",
        "\n",
        "Create 4 subplots in a 2x2 grid, consisting of below four plots\n",
        "\n",
        "1. Histogram of scores.\n",
        "2. Line chart plotting hours on the x_axis and the score on the y_axis\n",
        "3. Bar chart plotting the hours on the x_axis and the score on the y_axis\n",
        "4. A scatter plot with the hours on the x_axis and the score on the y_axis\n",
        "\n",
        "Make sure to add labels and a title to each of the charts."
      ]
    },
    {
      "metadata": {
        "id": "z9bnlDLeN7jE",
        "colab_type": "code",
        "colab": {
          "autoexec": {
            "startup": false,
            "wait_interval": 0
          }
        }
      },
      "cell_type": "code",
      "source": [
        "### YOUR CODE GOES BELOW\n",
        "hours = [1,2,3,4,5,6,7,8,9,10]\n",
        "scores = [40,45,50,55,60,65,70,80,90,100]\n",
        "\n",
        "new_x, new_y = zip(*sorted(zip(hours, score)))"
      ],
      "execution_count": 0,
      "outputs": []
    },
    {
      "metadata": {
        "id": "pJuBRntiKWiD",
        "colab_type": "code",
        "colab": {
          "autoexec": {
            "startup": false,
            "wait_interval": 0
          },
          "base_uri": "https://localhost:8080/",
          "height": 376
        },
        "outputId": "3e586742-1768-4a9d-cf76-47a45292a2f8",
        "executionInfo": {
          "status": "ok",
          "timestamp": 1531981804714,
          "user_tz": 420,
          "elapsed": 753,
          "user": {
            "displayName": "Sampann Nigam",
            "photoUrl": "https://lh3.googleusercontent.com/a/default-user=s128",
            "userId": "102273316183648148768"
          }
        }
      },
      "cell_type": "code",
      "source": [
        "f, axarr = plt.subplots(2, 2)\n",
        "\n",
        "ax = axarr[0][0]\n",
        "ax.set_title(\"Histogram of Scores\")\n",
        "ax.set_xlabel(\"Scores\")\n",
        "ax.set_ylabel(\"Frequency\")\n",
        "ax.hist(scores)\n",
        "\n",
        "ax = axarr[0][1]\n",
        "ax.set_title(\"Hours vs. Score Line Chart\")\n",
        "ax.set_xlabel(\"Hours\")\n",
        "ax.set_ylabel(\"Scores\")\n",
        "ax.plot(new_x, new_y)\n",
        "\n",
        "ax = axarr[1][0]\n",
        "ax.set_title(\"Hours vs. Score Bar Chart\")\n",
        "ax.set_xlabel(\"Hours\")\n",
        "ax.set_ylabel(\"Scores\")\n",
        "ax.bar(hours, scores)\n",
        "\n",
        "ax = axarr[1][1]\n",
        "ax.set_title(\"Hours vs. Score Scatter Plot\")\n",
        "ax.set_xlabel(\"Hours\")\n",
        "ax.set_ylabel(\"Scores\")\n",
        "ax.scatter(hours, scores)\n",
        "\n",
        "plt.show()\n",
        "### END CODE"
      ],
      "execution_count": 25,
      "outputs": [
        {
          "output_type": "display_data",
          "data": {
            "image/png": "[encoded data removed]",
            "text/plain": [
              "<matplotlib.figure.Figure at 0x7f0019e50590>"
            ]
          },
          "metadata": {
            "tags": []
          }
        }
      ]
    },
    {
      "metadata": {
        "id": "ObRO9HSjN7jI",
        "colab_type": "text"
      },
      "cell_type": "markdown",
      "source": [
        "## OPTIONAL EXERCISES\n",
        "\n",
        "Below is a set of optional exercises. These will not be graded but the solutions will be posted. I would strongly encourage you to try these out if you are done with the mandatory homework exercises to improve your understanding of python."
      ]
    },
    {
      "metadata": {
        "id": "vwM8QEcgN7jI",
        "colab_type": "text"
      },
      "cell_type": "markdown",
      "source": [
        "#### Exercise 6 -  Pie Plots\n",
        "\n",
        "Consider the following distribution of populations of 10 countries in the European Union in 2016 (See https://en.wikipedia.org/wiki/List_of_European_Union_member_states_by_population)\n",
        "\n",
        "```\n",
        "1\t Germany\t82,301,678\t\n",
        "2\t France\t66,991,000\t\n",
        "3\t Italy\t60,795,612\t\n",
        "4\t Spain\t46,468,102\t\n",
        "5\t Poland\t38,567,614\t\n",
        "6\t Romania\t19,861,408\t\n",
        "7\t Netherlands\t17,100,475\t\n",
        "8\t Belgium\t11,258,434\t\n",
        "9\t Greece\t10,812,46\n",
        "10\t Czech Republic\t10,538,275\n",
        "```\n",
        "\n",
        "1. Create a pie-chart that shows the distribution of populations across the 10 countries\n",
        "2. Comment on your findings\n",
        "3. Why could a pie-chart be problematic when trying to visualize the results"
      ]
    },
    {
      "metadata": {
        "id": "JJY6q0yZN7jK",
        "colab_type": "code",
        "colab": {
          "autoexec": {
            "startup": false,
            "wait_interval": 0
          }
        }
      },
      "cell_type": "code",
      "source": [
        ""
      ],
      "execution_count": 0,
      "outputs": []
    },
    {
      "metadata": {
        "id": "WCAJjK1lN7jN",
        "colab_type": "text"
      },
      "cell_type": "markdown",
      "source": [
        "#### Exercise 7 -  Large data sets and sub Plots\n",
        "\n",
        "For this exercise you will download historical stock data from the internet from the below link. The data is available at - https://github.com/cis024c/spring2018hw/blob/master/all_stocks_1yr.csv. The data has the following fields - Date, Open, High, Low, Close, Volume, Name. The Name is the stock ticker or stock symbol.\n",
        "\n",
        "Your subplot will involve two plots in a 1X2 grid (1 row and two columns)\n",
        "\n",
        "* The first column will show a plot of date versus the price at close\n",
        "* The second column show show a plot of date versus the volume\n",
        "\n",
        "You will create an interactive way for the user to enter the ticker symbol and then look up for the data corresponding to that symbol and show the corresponding plot for that chart."
      ]
    },
    {
      "metadata": {
        "id": "dpPgJGL7N7jN",
        "colab_type": "code",
        "colab": {
          "autoexec": {
            "startup": false,
            "wait_interval": 0
          }
        }
      },
      "cell_type": "code",
      "source": [
        ""
      ],
      "execution_count": 0,
      "outputs": []
    }
  ]
}